{
 "cells": [
  {
   "cell_type": "markdown",
   "metadata": {},
   "source": [
    "# Spark Assignment 1: Analyze precipitation data \n",
    "\n",
    "This notebook shows you the basic steps when analyzing precipitation data in a notebook. You will learn how to load a data file to a notebook, access this data file in an Object Storage instance, and then load the content of the data file into a `pandas` DataFrame. Furthermore, you will learn how to explore and analyze the data in the DataFrame and how to vizualize your results by using the `matplotlib` library. \n",
    "\n",
    "## Table of contents\n",
    "1. [Get data](#data_set)\n",
    "\n",
    "2. [Load data](#load_data)\n",
    "\n",
    "3. [Access data](#access_data)\n",
    "\n",
    "4. [Explore data](#explore_data)\n",
    "\n",
    "5. [Plot the results](#plot_data)\n",
    "\n",
    "6. [Download the notebook](#download)\n",
    "\n",
    "7. [Summary](#summary)\n",
    "-----\n",
    "<font color='red'>IMPORTANT: </font>This notebook contains credential information, which should be private and confidential. Plase only use it for assignment. Do not share with others and out of course life cycle. "
   ]
  },
  {
   "cell_type": "markdown",
   "metadata": {},
   "source": [
    "<a id=\"data_set\"></a> \n",
    "## 1. Get data\n",
    "In this notebook, you will explore and analyze historical annual precipitation data.\n",
    "\n",
    "The raw precipitation data set is from [UNdata](http://data.un.org/), an Internet search engine for statistical databases provided by the United Nations Statistics Division. You will use a curated version of this data set in this sample. The precipitation measurements are in million cubic meters.\n",
    "\n",
    "To get the precipitation data set:\n",
    "1. Click [annual precipitation data set](https://cdsax.cloudant.com/public-samples/test/precipitation.csv) to download the data in CSV format.   \n",
    "    Note: If you use Safari, right-click the link and select **Download Linked File**. The CSV file is downloaded to your `Download` folder.              \n",
    "1. Save the CSV file to your computer.\n",
    "\n"
   ]
  },
  {
   "cell_type": "markdown",
   "metadata": {},
   "source": [
    "<a id=\"load_data\"></a>\n",
    "## 2. Load data\n",
    "You can add the CSV file that you downloaded to this notebook by dragging the file to the **Data Source** pane in the notebook **Palette** in the notebook. \n",
    "The data file is listed on the **Data Source** pane and is saved in the Object Storage instance associated with your Analytics for Apache Spark service.\n",
    "The progress bar below the file in the **Data Source** panel indicates the status of the load process. In the next step, you will learn how to access files in Object Storage."
   ]
  },
  {
   "cell_type": "markdown",
   "metadata": {},
   "source": [
    "<a id=\"access_data\"></a> \n",
    "## 3. Access data \n",
    "\n",
    "**[pandas](http://pandas.pydata.org/)** is a useful Python package for managing structured data.  The two primary data structures of pandas are [`Series`](http://pandas-docs.github.io/pandas-docs-travis/dsintro.html#series) (1-dimensional) and [`DataFrame`](http://pandas-docs.github.io/pandas-docs-travis/dsintro.html#dataframe) (2-dimensional).\n",
    "\n",
    "In the following steps, you will load the `precipitation.csv` file into a DataFrame in memory.\n",
    "\n",
    "To run code cells in a notebook, click Run Cell (**&#9658;**) in the notebook toolbar.  While the code in the cell is running, a `[*]` appears next to the cell. After the code has run, the `[*]` is replaced by a number indicating that the code cell is the *N*th cell to run in the notebook."
   ]
  },
  {
   "cell_type": "markdown",
   "metadata": {},
   "source": [
    "### Import packages to the notebook\n",
    "\n",
    "Import the `requests`, `base64`, `StringIO`, `pandas` and `re` packages to use in the notebook. The  pandas package is traditionally imported as `pd`: "
   ]
  },
  {
   "cell_type": "code",
   "execution_count": null,
   "metadata": {
    "collapsed": true
   },
   "outputs": [],
   "source": [
    "import requests, StringIO, pandas as pd, json, re"
   ]
  },
  {
   "cell_type": "markdown",
   "metadata": {},
   "source": [
    "###  Access Object Storage\n",
    "\n",
    "Because the `precipitation.csv` file is located in Object Storage, you need to define a helper function to access the data file that you loaded. Run the following cell to define the method `get_file_content()`:"
   ]
  },
  {
   "cell_type": "code",
   "execution_count": null,
   "metadata": {
    "collapsed": true
   },
   "outputs": [],
   "source": [
    "def get_file_content(credentials):\n",
    "    \"\"\"For given credentials, this functions returns a StringIO object containing the file content.\"\"\"\n",
    "    \n",
    "    url1 = ''.join([credentials['auth_url'], '/v3/auth/tokens'])\n",
    "    data = {'auth': {'identity': {'methods': ['password'],\n",
    "            'password': {'user': {'name': credentials['username'],'domain': {'id': credentials['domain_id']},\n",
    "            'password': credentials['password']}}}}}\n",
    "    headers1 = {'Content-Type': 'application/json'}\n",
    "    resp1 = requests.post(url=url1, data=json.dumps(data), headers=headers1)\n",
    "    resp1_body = resp1.json()    \n",
    "    for e1 in resp1_body['token']['catalog']:\n",
    "        if(e1['type']=='object-store'):\n",
    "            for e2 in e1['endpoints']:\n",
    "                if(e2['interface']=='public'and e2['region']==credentials['region']):\n",
    "                    url2 = ''.join([e2['url'],'/', credentials['container'], '/', credentials['filename']])\n",
    "    s_subject_token = resp1.headers['x-subject-token']\n",
    "    headers2 = {'X-Auth-Token': s_subject_token, 'accept': 'application/json'}\n",
    "    resp2 = requests.get(url=url2, headers=headers2)\n",
    "    return StringIO.StringIO(resp2.content)"
   ]
  },
  {
   "cell_type": "markdown",
   "metadata": {},
   "source": [
    "### Insert data source credentials\n",
    "\n",
    "To add the credentials to access the `precipitation.csv` file which is stored in Object Storage, click the next code cell and select the `Insert to code` function below the data file in the **Data Source** pane in the notebook palette.\n",
    "\n",
    "The credentials for accessing the `precipitation.csv` file are added to the cell as a Python dictionary. With these credentials, you can use the helper function to load the data file into a `pandas.DataFrame`. \n",
    "\n",
    "**Note**: When you select the `Insert to code` function, a code cell with a dictionary is created for you.  Adjust the credentials in the Python dictionary to correspond with the credentials inserted by the `Insert to code` function and run the dictionary code cell. The access credentials to the Object Storage instance in the dictionary are provided for convenience for later usage. "
   ]
  },
  {
   "cell_type": "code",
   "execution_count": null,
   "metadata": {
    "collapsed": true
   },
   "outputs": [],
   "source": [
    "credentials = {\n",
    "  'auth_url':'https://identity.open.softlayer.com',\n",
    "  'project':'object_storage_9de0bf59_5fe2_4f11_8d80_ac12b45f3fca',\n",
    "  'project_id':'3fd339f1bd7b4ff4a1eb8da7659e39ba',\n",
    "  'region':'dallas',\n",
    "  'user_id':'46476b565b864525a6a365d41fe7a280',\n",
    "  'domain_id':'29cedac5a5ca492c83b9c6f324f7229d',\n",
    "  'domain_name':'913169',\n",
    "  'username':'Admin_28154f3d777dc89d3deb5a8285de9513c30049b3',\n",
    "  'password':\"\"\"HQ.7BPLU5W1=5Yob\"\"\",\n",
    "  'filename':'precipitation.csv',\n",
    "  'container':'notebooks',\n",
    "  'tenantId':''\n",
    "}"
   ]
  },
  {
   "cell_type": "markdown",
   "metadata": {},
   "source": [
    "### Load data into `pandas DataFrame`\n",
    "\n",
    "Run the next cell to load the data into a pandas DataFrame: "
   ]
  },
  {
   "cell_type": "code",
   "execution_count": null,
   "metadata": {
    "collapsed": false
   },
   "outputs": [],
   "source": [
    "content_string = get_file_content(credentials)\n",
    "precipitation_df = pd.read_csv(content_string)"
   ]
  },
  {
   "cell_type": "markdown",
   "metadata": {},
   "source": [
    "<a id=\"explore_data\"></a> \n",
    "## 4. Explore data\n",
    "\n",
    "Now that your data is in memory, you can begin to explore and manipulate it.\n",
    "\n",
    "Show the first five and the last five rows of the data by using the `head()` and `tail()` methods.  Run each code cell:"
   ]
  },
  {
   "cell_type": "code",
   "execution_count": null,
   "metadata": {
    "collapsed": false
   },
   "outputs": [],
   "source": [
    "precipitation_df.head()"
   ]
  },
  {
   "cell_type": "code",
   "execution_count": null,
   "metadata": {
    "collapsed": false,
    "scrolled": true
   },
   "outputs": [],
   "source": [
    "precipitation_df.tail()"
   ]
  },
  {
   "cell_type": "markdown",
   "metadata": {},
   "source": [
    "Each row in the table lists:\n",
    "\n",
    "* The country or region where the measurements were taken\n",
    "* The annual precipitation for 1990, and for the years 1995 to 2009\n",
    "\n",
    "By using the `DataFrame` API, you can list all countries or areas for which precipitation measurements exist. Run the following cell to list these countries:"
   ]
  },
  {
   "cell_type": "code",
   "execution_count": null,
   "metadata": {
    "collapsed": false,
    "scrolled": true
   },
   "outputs": [],
   "source": [
    "precipitation_df['Country or Area'].values"
   ]
  },
  {
   "cell_type": "markdown",
   "metadata": {},
   "source": [
    "Having the names of the countries or areas as a column comes in handy, but it would be more useful to have the names as an index to the rows. To manipulate the `DataFrame` in this way, run the next cell:"
   ]
  },
  {
   "cell_type": "code",
   "execution_count": null,
   "metadata": {
    "collapsed": false
   },
   "outputs": [],
   "source": [
    "precipitation_df = precipitation_df.set_index(precipitation_df[\"Country or Area\"])\n",
    "precipitation_df.drop(['Country or Area'], axis=1, inplace=True)\n",
    "precipitation_df.head()"
   ]
  },
  {
   "cell_type": "markdown",
   "metadata": {},
   "source": [
    "<a id=\"plot_data\"></a> \n",
    "## 5. Plot the results\n",
    "\n",
    "When you work in notebooks, you can decide how to present your anlysis results and derived information. So far, you have used normal print functions, which are informative. However, you can also show your results in a visual way by using the popular [`matplotlib`](http://matplotlib.org/) package to create plots.\n",
    "\n",
    "First, render your results as inline charts:"
   ]
  },
  {
   "cell_type": "code",
   "execution_count": null,
   "metadata": {
    "collapsed": true
   },
   "outputs": [],
   "source": [
    "%matplotlib inline "
   ]
  },
  {
   "cell_type": "markdown",
   "metadata": {},
   "source": [
    "Now use `pandas` wrappers around the `matplotlib` routines. Because you changed the index of the table rows, you can access the precipitation measurements of a country or area by name. For example, run the following cell to plot the annual precipitation of Germany:"
   ]
  },
  {
   "cell_type": "code",
   "execution_count": null,
   "metadata": {
    "collapsed": false
   },
   "outputs": [],
   "source": [
    "germany = precipitation_df.ix['Germany']\n",
    "ax = germany.plot(kind='bar', figsize=(8,5), title=\"Precipitation of %s between 1990 to 2009\" % germany.name)\n",
    "ax.set_ylabel(\"Precipitation (million cubic meters)\")\n",
    "ax.set_xlabel(\"Years\");"
   ]
  },
  {
   "cell_type": "markdown",
   "metadata": {},
   "source": [
    "Another possibility is to import the `matplotlib` library and use it directly for plotting the precipitation values in France:"
   ]
  },
  {
   "cell_type": "code",
   "execution_count": null,
   "metadata": {
    "collapsed": false
   },
   "outputs": [],
   "source": [
    "import matplotlib.pyplot as plt, numpy as np\n",
    "\n",
    "france = precipitation_df.ix['France']\n",
    "years = france.index\n",
    "index = np.arange(len(years))  \n",
    "plt.figure(figsize=(8,5))\n",
    "bar_width = 0.5\n",
    "plt.bar(index, france, bar_width, color='b')\n",
    "plt.xlabel(\"Year\")\n",
    "plt.ylabel(\"Precipitation (million cubic meters)\")\n",
    "plt.title(\"Precipitation of %s between 1990 to 2009\" % france.name, y=1.08)\n",
    "plt.xticks(index + bar_width, years, rotation=90)\n",
    "plt.show()"
   ]
  },
  {
   "cell_type": "markdown",
   "metadata": {},
   "source": [
    "### Plot the countries or areas with the highest total precipitation\n",
    "\n",
    "To get a list of the countries with the highest total precipitation, you have to compute the sum of all annual precipitation. You can do this by using the `pandas` `sum()` method. This method adds an  additional column called SUM, which contains the sums of the annual precipitation values to the `precipitation_df` DataFrame."
   ]
  },
  {
   "cell_type": "code",
   "execution_count": null,
   "metadata": {
    "collapsed": true
   },
   "outputs": [],
   "source": [
    "precipitation_df[\"SUM\"] = precipitation_df.sum(axis=1)"
   ]
  },
  {
   "cell_type": "markdown",
   "metadata": {},
   "source": [
    "Next, sort the DataFrame by total precipitation and print the top five countries or areas with the highest total precipitation:"
   ]
  },
  {
   "cell_type": "code",
   "execution_count": null,
   "metadata": {
    "collapsed": false
   },
   "outputs": [],
   "source": [
    "precipitation_sorted_df = precipitation_df.sort_values(by=\"SUM\",ascending=False)\n",
    "top5_sums = pd.Series(precipitation_sorted_df[\"SUM\"].head(5))\n",
    "top5_sums"
   ]
  },
  {
   "cell_type": "markdown",
   "metadata": {},
   "source": [
    "Now, plot the top five countries next to each another in a line graph for a better comparison of the recordings:"
   ]
  },
  {
   "cell_type": "code",
   "execution_count": null,
   "metadata": {
    "collapsed": false
   },
   "outputs": [],
   "source": [
    "top5_bars = precipitation_sorted_df[years][0:5].transpose()\n",
    "ax = top5_bars.plot(figsize=(10,8), marker='o', linestyle='-', title=\"Top 5 Countries with highest Precipitation\")\n",
    "ax.set_xlabel(\"Years\")\n",
    "ax.set_ylabel(\"Precipitation (million cubic meters)\");"
   ]
  },
  {
   "cell_type": "markdown",
   "metadata": {},
   "source": [
    "Finally, compare the annual precipitation for the top five countries. China has the highest annual precipitation, followed by Colombia. The line graph also shows that some values are missing, which makes comparing measurements difficult. \n",
    "\n",
    "To show the total precipitation for the top five countries in relation to the total precipitation for all countries over the entire time period, use a pie chart. Run the next code cell to create a pie chart by using the `matplotlib` library:"
   ]
  },
  {
   "cell_type": "code",
   "execution_count": null,
   "metadata": {
    "collapsed": false
   },
   "outputs": [],
   "source": [
    "precipitation_sums = top5_sums\n",
    "other_sums = precipitation_sorted_df[\"SUM\"][5:].sum()\n",
    "precipitation_sums[\"Other\"] = other_sums\n",
    "\n",
    "plt.axis('equal')\n",
    "plt.title(\"Annual precipitation percentage\",y=1.08)\n",
    "plt.pie(\n",
    "    precipitation_sums,\n",
    "    labels=precipitation_sums.index,\n",
    "    colors=['blue', 'green', 'red', 'turquoise', 'magenta','yellow'],\n",
    "    autopct=\"%1.2f%%\",\n",
    "    radius=1.25);"
   ]
  },
  {
   "cell_type": "markdown",
   "metadata": {},
   "source": [
    "The pie chart shows you that nearly a quarter of the precipitation fell in China, and that more than  half of the precipitation fell in the five countries with the highest annual precipitation."
   ]
  },
  {
   "cell_type": "markdown",
   "metadata": {},
   "source": [
    "###  Plot the countries with a negative annual precipitation trend\n",
    "\n",
    "Going through each row in the DataFrame and looking at the figures is not a viable solution to determine trends. Plotting a bar chart for each country or area is possible, but inconvenient. \n",
    "\n",
    "One way to determine trends in annual precipitation is to fit a line to the data points. Run the next code cell to create a bar chart showing the annual precipitation trend for Chile:"
   ]
  },
  {
   "cell_type": "code",
   "execution_count": null,
   "metadata": {
    "collapsed": false
   },
   "outputs": [],
   "source": [
    "chile = precipitation_sorted_df.ix['Chile'][:-1]\n",
    "years = chile.index\n",
    "chile.plot(kind='bar', figsize=(8,5), title=\"Precipitation of %s between 1990 to 2009\" % chile.name)\n",
    "plt.xlabel(\"Year\")\n",
    "plt.ylabel(\"Precipitation (million cubic meters)\");"
   ]
  },
  {
   "cell_type": "markdown",
   "metadata": {},
   "source": [
    "A line of best fit is a straight line that is the best approximation of the given set of data.\n",
    "The `polyfit()` function fits a line through data points. Because the DataFrame you are using is two-dimentional, it returns two values, the slope and the intercept. To determine whether the trend is positive or negative, you need only the slope. And naturally, you have to exclude any data points that correpond to the value 0.0. \n",
    "\n",
    "Run the next cells to determine and line plot the trend for Chile:"
   ]
  },
  {
   "cell_type": "code",
   "execution_count": null,
   "metadata": {
    "collapsed": false
   },
   "outputs": [],
   "source": [
    "index = chile[chile>0.0].index\n",
    "fit = np.polyfit(index.astype('int'), chile[index].values,1)\n",
    "print \"slope: \" + str(fit[0])"
   ]
  },
  {
   "cell_type": "code",
   "execution_count": null,
   "metadata": {
    "collapsed": false
   },
   "outputs": [],
   "source": [
    "plt.plot(index, chile[index],'.')\n",
    "plt.plot(index, fit[0]*index.astype('int') + fit[1], '-', color='red')\n",
    "plt.title(\"Precipitation Trend for Chile\")\n",
    "plt.xlabel(\"Year\")\n",
    "plt.ylabel(\"Precipitation (million cubic meters)\")\n",
    "plt.show()"
   ]
  },
  {
   "cell_type": "markdown",
   "metadata": {},
   "source": [
    "For Chile, the line plot shows a positive trend in annual precipitation, despite the fact that during the last couple of years the annual precipitation decreased. \n",
    "\n",
    "The next cells show you how to determine the precipitation trends for 91 countries.\n",
    "Run the next code cell to define the `compute_slope()` method to compute the slope of a fitted line  between given points:"
   ]
  },
  {
   "cell_type": "code",
   "execution_count": null,
   "metadata": {
    "collapsed": true
   },
   "outputs": [],
   "source": [
    "def compute_slope(row):\n",
    "    \"\"\" This method computes the slope of a fittet line for given data points. \n",
    "    For arguments containing less than two valid data points it returns a NaN.\"\"\"\n",
    "    slope = np.nan\n",
    "    years = row[row>0.0].index\n",
    "    if(len(years)>=2):\n",
    "        fit = np.polyfit(years.astype('int'), row[years].values,1)\n",
    "        slope = fit[0]\n",
    "    return slope"
   ]
  },
  {
   "cell_type": "markdown",
   "metadata": {},
   "source": [
    "After defining the `compute_slope()` method, use the `pandas` `apply()` method to compute the slope for each row in the DataFrame and add the computed slope value to a new column called TREND:"
   ]
  },
  {
   "cell_type": "code",
   "execution_count": null,
   "metadata": {
    "collapsed": false
   },
   "outputs": [],
   "source": [
    "precipitation_df[\"TREND\"] = precipitation_sorted_df[years].apply(compute_slope, axis=1)\n",
    "precipitation_df.head()"
   ]
  },
  {
   "cell_type": "markdown",
   "metadata": {},
   "source": [
    "If the value is positive, the annual precipitation trend for the country is positive. If the value is negative, the annual precipitation trend is negative. Values near zero indicate a stable condition. \n",
    "\n",
    "To determine the countries with a negative precipitation trend, find the rows in the DataFrame with a negative value in the TREND column:"
   ]
  },
  {
   "cell_type": "code",
   "execution_count": null,
   "metadata": {
    "collapsed": false
   },
   "outputs": [],
   "source": [
    "negative_trends = precipitation_df[precipitation_df[\"TREND\"]<0.0]\n",
    "negative_trends.index"
   ]
  },
  {
   "cell_type": "markdown",
   "metadata": {},
   "source": [
    "<a id=\"summary\"></a>\n",
    "## Summary\n",
    "\n",
    "In this sample, you learned the basic tools for working with notebooks. You learned how to use the preinstalled `pandas` library to explore and analyze precipitation data to gain insights about the distribution of precipitation in 91 countries and detect trends. You learned to use the `matplotlib` libraries to visualize your results in different ways, for example as bar charts, pie charts, and line graphs. "
   ]
  },
  {
   "cell_type": "markdown",
   "metadata": {
    "collapsed": false
   },
   "source": [
    "### Resources\n",
    "\n",
    "[Learn Python the Hard Way](http://learnpythonthehardway.org/book/)<br/> \n",
    "[Python Programming Language](https://www.python.org/)<br/> \n",
    "[IPython Notebook](http://nbviewer.ipython.org/github/ipython/ipython/blob/2.x/examples/Notebook/Index.ipynb)<br/> \n",
    "[Jupyter Notebook](http://jupyter.readthedocs.org/en/latest/)<br/> \n",
    "[A gallery of interesting Notebooks](https://github.com/ipython/ipython/wiki/A-gallery-of-interesting-IPython-Notebooks)<br/> \n",
    "\n",
    "Check out these interesting tutorials on YouTube:\n",
    "\n",
    "[PyData 2015 - Introduction to Pandas](https://www.youtube.com/watch?v=TSsSWuhBpmY)\n",
    "\n",
    "[Matplotlib Python Tutorial](https://www.youtube.com/watch?v=wAwQ-noyB98)"
   ]
  }
 ],
 "metadata": {
  "kernelspec": {
   "display_name": "Python 2",
   "language": "python",
   "name": "python2"
  },
  "language_info": {
   "codemirror_mode": {
    "name": "ipython",
    "version": 2
   },
   "file_extension": ".py",
   "mimetype": "text/x-python",
   "name": "python",
   "nbconvert_exporter": "python",
   "pygments_lexer": "ipython2",
   "version": "2.7.11"
  }
 },
 "nbformat": 4,
 "nbformat_minor": 0
}
